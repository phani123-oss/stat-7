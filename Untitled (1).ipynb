{
 "cells": [
  {
   "cell_type": "code",
   "execution_count": 1,
   "id": "70bb1124-c8a3-4d3b-bce9-de89156f0c3f",
   "metadata": {},
   "outputs": [
    {
     "name": "stdout",
     "output_type": "stream",
     "text": [
      "Degree of freedom 1: 24\n",
      "Degree of freedom 2: 19\n",
      "F-statistic: 1.07125109936227\n",
      "p-value: 0.5554638639728628\n"
     ]
    }
   ],
   "source": [
    "'''Q1. Write a Python function that takes in two arrays of data and calculates the F-value for a variance ratio\n",
    "test. The function should return the F-value and the corresponding p-value for the test.'''\n",
    "\n",
    "import numpy as np\n",
    "import scipy.stats as stats\n",
    "\n",
    "# Create the data for two groups\n",
    "group1 = np.random.rand(25)\n",
    "group2 = np.random.rand(20)\n",
    "\n",
    "# Calculate the sample variances\n",
    "variance1 = np.var(group1, ddof=1)\n",
    "variance2 = np.var(group2, ddof=1)\n",
    "\n",
    "# Calculate the F-statistic\n",
    "f_value = variance1 / variance2\n",
    "\n",
    "# Calculate the degrees of freedom\n",
    "df1 = len(group1) - 1\n",
    "df2 = len(group2) - 1\n",
    "\n",
    "# Calculate the p-value\n",
    "p_value = stats.f.cdf(f_value, df1, df2)\n",
    "\n",
    "# Print the results\n",
    "print('Degree of freedom 1:',df1)\n",
    "print('Degree of freedom 2:',df2)\n",
    "print(\"F-statistic:\", f_value)\n",
    "print(\"p-value:\", p_value)"
   ]
  },
  {
   "cell_type": "code",
   "execution_count": 2,
   "id": "4527b953-2f5e-4f56-877c-65fb9b9012ee",
   "metadata": {},
   "outputs": [
    {
     "name": "stdout",
     "output_type": "stream",
     "text": [
      "9.14830103022785\n"
     ]
    }
   ],
   "source": [
    "'''Q2. Given a significance level of 0.05 and the degrees of freedom for the numerator and denominator of an\n",
    "F-distribution, write a Python function that returns the critical F-value for a two-tailed test.'''\n",
    "\n",
    "# Importing library \n",
    "import scipy.stats \n",
    "\n",
    "# Determine the F critical value \n",
    "print(scipy.stats.f.ppf(q=1-.01, dfn=4, dfd=6)) "
   ]
  },
  {
   "cell_type": "markdown",
   "id": "709ede37-0b20-458d-8bf9-8cc998fee657",
   "metadata": {},
   "source": [
    "To begin with, define the null and alternate hypotheses.\n",
    "\n",
    "Null Hypothesis or H0: σ12 = σ22 (the variances of the population are equal)\n",
    "\n",
    "Alternate Hypothesis or H1: σ12 ≠ σ22 (the variances of the populations are unequal)\n",
    "\n",
    "Choose the statistic for testing.\n",
    "\n",
    "Calculate the degrees of freedom for the populations. For instance, if m and n are population shapes, the degree of freedom is denoted as (df1) = m–1 and (df2) = n – 1 respectively.\n",
    "\n",
    "Now find the F value from the F-table.\n",
    "\n",
    "At last, divide the value of alpha by 2 for two-tailed tests to calculate the critical value."
   ]
  },
  {
   "cell_type": "code",
   "execution_count": 4,
   "id": "1fedf128-11bd-4a80-9145-5007895ce40f",
   "metadata": {},
   "outputs": [
    {
     "name": "stdout",
     "output_type": "stream",
     "text": [
      "0.010464 0.00042400000000000017\n"
     ]
    },
    {
     "data": {
      "text/plain": [
       "(24.679245283018858, 0.004431318383760985)"
      ]
     },
     "execution_count": 4,
     "metadata": {},
     "output_type": "execute_result"
    }
   ],
   "source": [
    "import numpy as np\n",
    "import scipy.stats\n",
    "\n",
    "# Create data\n",
    "group1 = [0.28, 0.2, 0.26, 0.28, 0.5]\n",
    "group2 = [0.2, 0.23, 0.26, 0.21, 0.23]\n",
    "\n",
    "# Converting the list to an array\n",
    "x = np.array(group1)\n",
    "y = np.array(group2)\n",
    "\n",
    "# Calculate the variance of each group\n",
    "print(np.var(group1), np.var(group2))\n",
    "\n",
    "def f_test(group1, group2):\n",
    "   f = np.var(group1, ddof=1)/np.var(group2, ddof=1)\n",
    "   nun = x.size-1\n",
    "   dun = y.size-1\n",
    "   p_value = 1-scipy.stats.f.cdf(f, nun, dun)\n",
    "   return f, p_value\n",
    "\n",
    "# perform F-test\n",
    "f_test(x, y)"
   ]
  },
  {
   "cell_type": "code",
   "execution_count": null,
   "id": "33a388cf-a115-41b0-a55b-aef23353f95d",
   "metadata": {},
   "outputs": [],
   "source": []
  }
 ],
 "metadata": {
  "kernelspec": {
   "display_name": "Python 3 (ipykernel)",
   "language": "python",
   "name": "python3"
  },
  "language_info": {
   "codemirror_mode": {
    "name": "ipython",
    "version": 3
   },
   "file_extension": ".py",
   "mimetype": "text/x-python",
   "name": "python",
   "nbconvert_exporter": "python",
   "pygments_lexer": "ipython3",
   "version": "3.10.8"
  }
 },
 "nbformat": 4,
 "nbformat_minor": 5
}
